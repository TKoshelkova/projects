{
 "cells": [
  {
   "cell_type": "code",
   "execution_count": 3,
   "metadata": {},
   "outputs": [],
   "source": [
    "import pandahouse as ph\n",
    "import pandas as pd\n",
    "import numpy as np\n",
    "import seaborn as sns\n",
    "import matplotlib.pyplot as plt\n",
    "\n",
    "%matplotlib inline\n",
    "\n",
    "sns.set(\n",
    "    font_scale=1.2,\n",
    "    style=\"whitegrid\",\n",
    "    rc={'figure.figsize':(12,7)}\n",
    "        )"
   ]
  },
  {
   "cell_type": "markdown",
   "metadata": {},
   "source": [
    "Вы пришли работать стажером-аналитиком и вас просят сделать некоторые выводы о приложении для поиска работы и трафике, который в него закупается."
   ]
  },
  {
   "cell_type": "markdown",
   "metadata": {},
   "source": [
    "### Вопросы\n",
    "\n",
    "* 1. Мы хотим узнать, насколько хорошо наши пользователи-кандидаты проходят первый шаг в приложении – делают отклик на понравившуюся вакансию. Какой процент кандидатов хотя бы раз откликался на вакансию?\n",
    "* 2. Так как ситуация с безработицей в разных регионах очень разная, мы хотим посмотреть, в каком регионе наибольшее кол-во вакансий. Какой регион имеет больше всего вакансий (регионом вакансии принять регион пользователя)?\n",
    "* 3. Для того, чтобы предлагать нашим пользователям подходящие вакансии, мы хотим понять, насколько часто люди ищут работу в разных сферах. Какой процент пользователей среди откликавшихся сделал второй отклик на профессию, отличную от профессии первого отклика?\n",
    "* 4. Сколько пользователей сделали повторный отклик в течение недели после первого?\n",
    "* 5. Мы закупаем много трафика, но не весь он – релевантный. Какая рекламная сетка нам льет больше всего несовершеннолетних девушек не из РФ?\n",
    "* 6. Так как у нас в приложении две очень разные группы пользователей – кандидаты и рекрутеры – мы хотим понять, какая рекламная сетка эффективней всего в привлечении сложной аудитории – рекрутеров. Какая рекламная сетка льет нам наибольшую долю рекрутеров?\n",
    "* 7. Кандидаты тоже различаются по своей активности в приложении – нам интересны те, которые активно откликаются на вакансии, и мы хотим вливать больше денег в те кампании, которые привлекают активных кандидатов. С какой кампании достигается максимальное количество откликов на кандидата?\n"
   ]
  },
  {
   "cell_type": "markdown",
   "metadata": {},
   "source": [
    "### Описание данных\n",
    "\n",
    "Перед вами 3 таблицы с данными:\n",
    "\n",
    "1.     Users\n",
    "\n",
    "    * id – идентификатор юзера (UInt32)\n",
    "    * created_at – дата и время регистрации юзера в базе (DateTime)\n",
    "    * user_type – 0 если юзер – кандидат, 1 – если рекрутер (UInt8)\n",
    "    * birthday – год рождения пользователя (Date)\n",
    "    * sex – 1 если мужчина, 0 если женщина (UInt8)\n",
    "    * nationality_id – 0 если юзер – РФ, 1 если юзер – не РФ (UInt8)\n",
    "    * region – регион пользователя (UInt8)\n",
    "    * adnetwork_n – номер рекламной сетки, из которой пришел пользователь\n",
    "    * campaign_n – номер рекламной кампании, с которой пришел пользователь\n",
    "\n",
    "2.     Jobs\n",
    "\n",
    "    * id – идентификатор вакансии (UInt32)\n",
    "    * created_at – дата и время создания вакансии в базе (DateTime)\n",
    "    * user_id – идентификатор пользователя, создавшего вакансию (UInt32)\n",
    "    * profession – профессия данной вакансии (String)\n",
    "\n",
    "3.     Applications (отклики на вакансию)\n",
    "\n",
    "    * id – идентификатор отклика (UInt32)\n",
    "    * created_at – дата и время создания отклика (DateTime)\n",
    "    * job_id – идентификатор вакансии, на которую пришел отклик (UInt32)\n",
    "    * candidate_id – идентификатор кандидата (UInt32)\n"
   ]
  },
  {
   "cell_type": "code",
   "execution_count": 7,
   "metadata": {},
   "outputs": [],
   "source": [
    "# Прежде чем приступить к выполнению задани, подключимс к безе данных с таблицами.\n",
    "connection = dict(database='default',\n",
    "                  host='https://clickhouse.lab.karpov.courses',\n",
    "                  user='student',\n",
    "                  password='dpo_python_2020')"
   ]
  },
  {
   "cell_type": "markdown",
   "metadata": {},
   "source": [
    "### 1 \n",
    "Мы хотим узнать, насколько хорошо наши пользователи-кандидаты проходят первый шаг в приложении – делают отклик на понравившуюся вакансию. Какой процент кандидатов хотя бы раз откликался на вакансию?"
   ]
  },
  {
   "cell_type": "code",
   "execution_count": 13,
   "metadata": {},
   "outputs": [
    {
     "data": {
      "text/html": [
       "<div>\n",
       "<style scoped>\n",
       "    .dataframe tbody tr th:only-of-type {\n",
       "        vertical-align: middle;\n",
       "    }\n",
       "\n",
       "    .dataframe tbody tr th {\n",
       "        vertical-align: top;\n",
       "    }\n",
       "\n",
       "    .dataframe thead th {\n",
       "        text-align: right;\n",
       "    }\n",
       "</style>\n",
       "<table border=\"1\" class=\"dataframe\">\n",
       "  <thead>\n",
       "    <tr style=\"text-align: right;\">\n",
       "      <th></th>\n",
       "      <th>count_candidates</th>\n",
       "      <th>count_candidates_answered</th>\n",
       "      <th>answered_percent</th>\n",
       "    </tr>\n",
       "  </thead>\n",
       "  <tbody>\n",
       "    <tr>\n",
       "      <th>0</th>\n",
       "      <td>450</td>\n",
       "      <td>385</td>\n",
       "      <td>85.555556</td>\n",
       "    </tr>\n",
       "  </tbody>\n",
       "</table>\n",
       "</div>"
      ],
      "text/plain": [
       "   count_candidates  count_candidates_answered  answered_percent\n",
       "0               450                        385         85.555556"
      ]
     },
     "execution_count": 13,
     "metadata": {},
     "output_type": "execute_result"
    }
   ],
   "source": [
    "q_1 = '''\n",
    "    WITH(SELECT count(*)\n",
    "    FROM default.users\n",
    "    WHERE user_type = 0) AS count_candidates\n",
    "SELECT\n",
    "    count_candidates,\n",
    "    uniqExact(candidate_id) AS count_candidates_answered,\n",
    "    count_candidates_answered/count_candidates*100 AS answered_percent\n",
    "FROM default.applications\n",
    "    '''\n",
    "\n",
    "# отправляем запрос и записываем результат в пандасовский датафрейм\n",
    "df_1 = ph.read_clickhouse(q_1, connection=connection)\n",
    "df_1"
   ]
  },
  {
   "cell_type": "markdown",
   "metadata": {},
   "source": [
    "Всего кандидатов:  450, откликнувшихся кандидатов 385, процент откликнувшихся кандидатов 85.56%."
   ]
  },
  {
   "cell_type": "markdown",
   "metadata": {},
   "source": [
    "### 2\n",
    "Так как ситуация с безработицей в разных регионах очень разная, мы хотим посмотреть, в каком регионе наибольшее кол-во вакансий. Какой регион имеет больше всего вакансий (регионом вакансии принять регион пользователя)?"
   ]
  },
  {
   "cell_type": "code",
   "execution_count": 14,
   "metadata": {},
   "outputs": [
    {
     "data": {
      "text/html": [
       "<div>\n",
       "<style scoped>\n",
       "    .dataframe tbody tr th:only-of-type {\n",
       "        vertical-align: middle;\n",
       "    }\n",
       "\n",
       "    .dataframe tbody tr th {\n",
       "        vertical-align: top;\n",
       "    }\n",
       "\n",
       "    .dataframe thead th {\n",
       "        text-align: right;\n",
       "    }\n",
       "</style>\n",
       "<table border=\"1\" class=\"dataframe\">\n",
       "  <thead>\n",
       "    <tr style=\"text-align: right;\">\n",
       "      <th></th>\n",
       "      <th>count_vacancy</th>\n",
       "      <th>region</th>\n",
       "    </tr>\n",
       "  </thead>\n",
       "  <tbody>\n",
       "    <tr>\n",
       "      <th>0</th>\n",
       "      <td>37</td>\n",
       "      <td>0</td>\n",
       "    </tr>\n",
       "    <tr>\n",
       "      <th>1</th>\n",
       "      <td>14</td>\n",
       "      <td>7</td>\n",
       "    </tr>\n",
       "    <tr>\n",
       "      <th>2</th>\n",
       "      <td>13</td>\n",
       "      <td>2</td>\n",
       "    </tr>\n",
       "    <tr>\n",
       "      <th>3</th>\n",
       "      <td>11</td>\n",
       "      <td>5</td>\n",
       "    </tr>\n",
       "    <tr>\n",
       "      <th>4</th>\n",
       "      <td>7</td>\n",
       "      <td>1</td>\n",
       "    </tr>\n",
       "    <tr>\n",
       "      <th>5</th>\n",
       "      <td>5</td>\n",
       "      <td>6</td>\n",
       "    </tr>\n",
       "    <tr>\n",
       "      <th>6</th>\n",
       "      <td>4</td>\n",
       "      <td>8</td>\n",
       "    </tr>\n",
       "    <tr>\n",
       "      <th>7</th>\n",
       "      <td>3</td>\n",
       "      <td>3</td>\n",
       "    </tr>\n",
       "  </tbody>\n",
       "</table>\n",
       "</div>"
      ],
      "text/plain": [
       "   count_vacancy  region\n",
       "0             37       0\n",
       "1             14       7\n",
       "2             13       2\n",
       "3             11       5\n",
       "4              7       1\n",
       "5              5       6\n",
       "6              4       8\n",
       "7              3       3"
      ]
     },
     "execution_count": 14,
     "metadata": {},
     "output_type": "execute_result"
    }
   ],
   "source": [
    "q_2 = '''\n",
    "    SELECT\n",
    "    count(l.user_id) AS count_vacancy,\n",
    "    r.region\n",
    "FROM default.jobs AS l\n",
    "JOIN default.users AS r\n",
    "    ON l.user_id=r.id\n",
    "WHERE r.user_type=1\n",
    "GROUP BY r.region\n",
    "ORDER BY count_vacancy DESC\n",
    "    '''\n",
    "\n",
    "# отправляем запрос и записываем результат в пандасовский датафрейм\n",
    "df_2 = ph.read_clickhouse(q_2, connection=connection)\n",
    "df_2"
   ]
  },
  {
   "cell_type": "markdown",
   "metadata": {},
   "source": [
    "Наибольшее количество вакансий (37) имеет регион 0."
   ]
  },
  {
   "cell_type": "markdown",
   "metadata": {},
   "source": [
    "### 3\n",
    "Для того, чтобы предлагать нашим пользователям подходящие вакансии, мы хотим понять, насколько часто люди ищут работу в разных сферах. Какой процент пользователей среди откликавшихся сделал второй отклик на профессию, отличную от профессии первого отклика?"
   ]
  },
  {
   "cell_type": "code",
   "execution_count": 15,
   "metadata": {},
   "outputs": [
    {
     "data": {
      "text/html": [
       "<div>\n",
       "<style scoped>\n",
       "    .dataframe tbody tr th:only-of-type {\n",
       "        vertical-align: middle;\n",
       "    }\n",
       "\n",
       "    .dataframe tbody tr th {\n",
       "        vertical-align: top;\n",
       "    }\n",
       "\n",
       "    .dataframe thead th {\n",
       "        text-align: right;\n",
       "    }\n",
       "</style>\n",
       "<table border=\"1\" class=\"dataframe\">\n",
       "  <thead>\n",
       "    <tr style=\"text-align: right;\">\n",
       "      <th></th>\n",
       "      <th>Candidates</th>\n",
       "      <th>Candidates_second</th>\n",
       "      <th>Persentage</th>\n",
       "    </tr>\n",
       "  </thead>\n",
       "  <tbody>\n",
       "    <tr>\n",
       "      <th>0</th>\n",
       "      <td>385</td>\n",
       "      <td>282</td>\n",
       "      <td>73.246753</td>\n",
       "    </tr>\n",
       "  </tbody>\n",
       "</table>\n",
       "</div>"
      ],
      "text/plain": [
       "   Candidates  Candidates_second  Persentage\n",
       "0         385                282   73.246753"
      ]
     },
     "execution_count": 15,
     "metadata": {},
     "output_type": "execute_result"
    }
   ],
   "source": [
    "q_3 = '''\n",
    "    WITH(SELECT uniqExact(candidate_id)\n",
    "    FROM default.applications) AS Candidates\n",
    "SELECT\n",
    "    Candidates,\n",
    "    COUNT(candidate_id) AS Candidates_second,\n",
    "    (Candidates_second/(Candidates)*100) AS Persentage\n",
    "FROM(  \n",
    "    SELECT\n",
    "        l.candidate_id,\n",
    "        uniqExact(r.profession) AS unique_profession\n",
    "    FROM default.applications as l\n",
    "    JOIN default.jobs as r\n",
    "    ON l.job_id = r.id\n",
    "    GROUP BY l.candidate_id\n",
    "        HAVING unique_profession >= 2)\n",
    "    '''\n",
    "\n",
    "# отправляем запрос и записываем результат в пандасовский датафрейм\n",
    "df_3 = ph.read_clickhouse(q_3, connection=connection)\n",
    "df_3"
   ]
  },
  {
   "cell_type": "markdown",
   "metadata": {},
   "source": [
    "На 2 и более уникальные профессии 282 из 385 откликнувшихся, что составляет 73.25%"
   ]
  },
  {
   "cell_type": "markdown",
   "metadata": {},
   "source": [
    "### 4\n",
    "Сколько пользователей сделали повторный отклик в течение недели после первого?"
   ]
  },
  {
   "cell_type": "code",
   "execution_count": 16,
   "metadata": {},
   "outputs": [
    {
     "data": {
      "text/html": [
       "<div>\n",
       "<style scoped>\n",
       "    .dataframe tbody tr th:only-of-type {\n",
       "        vertical-align: middle;\n",
       "    }\n",
       "\n",
       "    .dataframe tbody tr th {\n",
       "        vertical-align: top;\n",
       "    }\n",
       "\n",
       "    .dataframe thead th {\n",
       "        text-align: right;\n",
       "    }\n",
       "</style>\n",
       "<table border=\"1\" class=\"dataframe\">\n",
       "  <thead>\n",
       "    <tr style=\"text-align: right;\">\n",
       "      <th></th>\n",
       "      <th>Count</th>\n",
       "    </tr>\n",
       "  </thead>\n",
       "  <tbody>\n",
       "    <tr>\n",
       "      <th>0</th>\n",
       "      <td>29</td>\n",
       "    </tr>\n",
       "  </tbody>\n",
       "</table>\n",
       "</div>"
      ],
      "text/plain": [
       "   Count\n",
       "0     29"
      ]
     },
     "execution_count": 16,
     "metadata": {},
     "output_type": "execute_result"
    }
   ],
   "source": [
    "q_4 = '''\n",
    "   SELECT\n",
    "    COUNT(candidate_id) AS Count\n",
    "FROM\n",
    "    (SELECT\n",
    "        candidate_id,\n",
    "        groupArray(created_at) AS Dates,\n",
    "        dateDiff('day', Dates[1], Dates[2]) AS diff\n",
    "    FROM(\n",
    "        SELECT\n",
    "            created_at,\n",
    "            candidate_id\n",
    "        FROM default.applications\n",
    "        ORDER BY created_at)\n",
    "    GROUP BY candidate_id\n",
    "        HAVING diff BETWEEN 0 AND 7)\n",
    "    '''\n",
    "\n",
    "# отправляем запрос и записываем результат в пандасовский датафрейм\n",
    "df_4 = ph.read_clickhouse(q_4, connection=connection)\n",
    "df_4"
   ]
  },
  {
   "cell_type": "markdown",
   "metadata": {},
   "source": [
    "29 пользователей сделали повторный отклик в течении недели."
   ]
  },
  {
   "cell_type": "markdown",
   "metadata": {},
   "source": [
    "### 5\n",
    "Мы закупаем много трафика, но не весь он – релевантный. Какая рекламная сетка нам льет больше всего несовершеннолетних девушек не из РФ?"
   ]
  },
  {
   "cell_type": "code",
   "execution_count": 17,
   "metadata": {},
   "outputs": [
    {
     "data": {
      "text/html": [
       "<div>\n",
       "<style scoped>\n",
       "    .dataframe tbody tr th:only-of-type {\n",
       "        vertical-align: middle;\n",
       "    }\n",
       "\n",
       "    .dataframe tbody tr th {\n",
       "        vertical-align: top;\n",
       "    }\n",
       "\n",
       "    .dataframe thead th {\n",
       "        text-align: right;\n",
       "    }\n",
       "</style>\n",
       "<table border=\"1\" class=\"dataframe\">\n",
       "  <thead>\n",
       "    <tr style=\"text-align: right;\">\n",
       "      <th></th>\n",
       "      <th>adnetwork_n</th>\n",
       "      <th>Count</th>\n",
       "    </tr>\n",
       "  </thead>\n",
       "  <tbody>\n",
       "    <tr>\n",
       "      <th>0</th>\n",
       "      <td>3</td>\n",
       "      <td>5</td>\n",
       "    </tr>\n",
       "    <tr>\n",
       "      <th>1</th>\n",
       "      <td>1</td>\n",
       "      <td>4</td>\n",
       "    </tr>\n",
       "    <tr>\n",
       "      <th>2</th>\n",
       "      <td>2</td>\n",
       "      <td>3</td>\n",
       "    </tr>\n",
       "    <tr>\n",
       "      <th>3</th>\n",
       "      <td>4</td>\n",
       "      <td>1</td>\n",
       "    </tr>\n",
       "    <tr>\n",
       "      <th>4</th>\n",
       "      <td>5</td>\n",
       "      <td>1</td>\n",
       "    </tr>\n",
       "  </tbody>\n",
       "</table>\n",
       "</div>"
      ],
      "text/plain": [
       "   adnetwork_n  Count\n",
       "0            3      5\n",
       "1            1      4\n",
       "2            2      3\n",
       "3            4      1\n",
       "4            5      1"
      ]
     },
     "execution_count": 17,
     "metadata": {},
     "output_type": "execute_result"
    }
   ],
   "source": [
    "q_5 = '''\n",
    "  SELECT\n",
    "    adnetwork_n,\n",
    "    COUNT(age) AS Count\n",
    "FROM\n",
    "    (SELECT\n",
    "        adnetwork_n,\n",
    "        sex,\n",
    "        birthday,\n",
    "        nationality_id,\n",
    "        created_at,\n",
    "        dateDiff('year', birthday, created_at) AS age\n",
    "    FROM default.users\n",
    "    WHERE sex = 0 AND age < 18 AND nationality_id = 1)\n",
    " GROUP BY adnetwork_n   \n",
    " ORDER BY Count DESC\n",
    "    '''\n",
    "\n",
    "# отправляем запрос и записываем результат в пандасовский датафрейм\n",
    "df_5 = ph.read_clickhouse(q_5, connection=connection)\n",
    "df_5"
   ]
  },
  {
   "cell_type": "markdown",
   "metadata": {},
   "source": [
    " Рекламная сетка №3 льет нам больше всего (5) несовершеннолетних девушек не из РФ."
   ]
  },
  {
   "cell_type": "markdown",
   "metadata": {},
   "source": [
    "### 6\n",
    "Так как у нас в приложении две очень разные группы пользователей – кандидаты и рекрутеры – мы хотим понять, какая рекламная сетка эффективней всего в привлечении сложной аудитории – рекрутеров. Какая рекламная сетка льет нам наибольшую долю рекрутеров?"
   ]
  },
  {
   "cell_type": "code",
   "execution_count": 19,
   "metadata": {},
   "outputs": [
    {
     "data": {
      "text/html": [
       "<div>\n",
       "<style scoped>\n",
       "    .dataframe tbody tr th:only-of-type {\n",
       "        vertical-align: middle;\n",
       "    }\n",
       "\n",
       "    .dataframe tbody tr th {\n",
       "        vertical-align: top;\n",
       "    }\n",
       "\n",
       "    .dataframe thead th {\n",
       "        text-align: right;\n",
       "    }\n",
       "</style>\n",
       "<table border=\"1\" class=\"dataframe\">\n",
       "  <thead>\n",
       "    <tr style=\"text-align: right;\">\n",
       "      <th></th>\n",
       "      <th>adnetwork_n</th>\n",
       "      <th>Count_recruiters</th>\n",
       "      <th>Percentage</th>\n",
       "    </tr>\n",
       "  </thead>\n",
       "  <tbody>\n",
       "    <tr>\n",
       "      <th>0</th>\n",
       "      <td>1</td>\n",
       "      <td>15</td>\n",
       "      <td>30.612245</td>\n",
       "    </tr>\n",
       "    <tr>\n",
       "      <th>1</th>\n",
       "      <td>3</td>\n",
       "      <td>14</td>\n",
       "      <td>28.571429</td>\n",
       "    </tr>\n",
       "    <tr>\n",
       "      <th>2</th>\n",
       "      <td>2</td>\n",
       "      <td>11</td>\n",
       "      <td>22.448980</td>\n",
       "    </tr>\n",
       "    <tr>\n",
       "      <th>3</th>\n",
       "      <td>4</td>\n",
       "      <td>8</td>\n",
       "      <td>16.326531</td>\n",
       "    </tr>\n",
       "    <tr>\n",
       "      <th>4</th>\n",
       "      <td>5</td>\n",
       "      <td>1</td>\n",
       "      <td>2.040816</td>\n",
       "    </tr>\n",
       "  </tbody>\n",
       "</table>\n",
       "</div>"
      ],
      "text/plain": [
       "   adnetwork_n  Count_recruiters  Percentage\n",
       "0            1                15   30.612245\n",
       "1            3                14   28.571429\n",
       "2            2                11   22.448980\n",
       "3            4                 8   16.326531\n",
       "4            5                 1    2.040816"
      ]
     },
     "execution_count": 19,
     "metadata": {},
     "output_type": "execute_result"
    }
   ],
   "source": [
    "q_6 = '''\n",
    "  WITH(SELECT\n",
    "    uniqExact(id)\n",
    "    FROM default.users\n",
    "    WHERE user_type=1) AS All_recruiters\n",
    "SELECT\n",
    "    adnetwork_n,\n",
    "    count(adnetwork_n) AS Count_recruiters,\n",
    "    Count_recruiters/All_recruiters *100 AS Percentage\n",
    "FROM default.users\n",
    "GROUP BY adnetwork_n\n",
    "    HAVING user_type=1\n",
    "ORDER BY Count_recruiters DESC\n",
    "    '''\n",
    "\n",
    "# отправляем запрос и записываем результат в пандасовский датафрейм\n",
    "df_6 = ph.read_clickhouse(q_6, connection=connection)\n",
    "df_6"
   ]
  },
  {
   "cell_type": "markdown",
   "metadata": {},
   "source": [
    " Рекламная сетка # 1 льет нам наибольшую долю рекрутеров - 15, что составляет 30.61% от их общего числа."
   ]
  },
  {
   "cell_type": "markdown",
   "metadata": {},
   "source": [
    "### 7\n",
    "Кандидаты тоже различаются по своей активности в приложении – нам интересны те, которые активно откликаются на вакансии, и мы хотим вливать больше денег в те кампании, которые привлекают активных кандидатов. С какой кампании достигается максимальное количество откликов на кандидата?"
   ]
  },
  {
   "cell_type": "code",
   "execution_count": 22,
   "metadata": {},
   "outputs": [
    {
     "data": {
      "text/html": [
       "<div>\n",
       "<style scoped>\n",
       "    .dataframe tbody tr th:only-of-type {\n",
       "        vertical-align: middle;\n",
       "    }\n",
       "\n",
       "    .dataframe tbody tr th {\n",
       "        vertical-align: top;\n",
       "    }\n",
       "\n",
       "    .dataframe thead th {\n",
       "        text-align: right;\n",
       "    }\n",
       "</style>\n",
       "<table border=\"1\" class=\"dataframe\">\n",
       "  <thead>\n",
       "    <tr style=\"text-align: right;\">\n",
       "      <th></th>\n",
       "      <th>campaign_n</th>\n",
       "      <th>all_responses</th>\n",
       "      <th>count_candidates</th>\n",
       "      <th>responses_per_candidate</th>\n",
       "    </tr>\n",
       "  </thead>\n",
       "  <tbody>\n",
       "    <tr>\n",
       "      <th>0</th>\n",
       "      <td>33</td>\n",
       "      <td>41</td>\n",
       "      <td>11</td>\n",
       "      <td>3.727273</td>\n",
       "    </tr>\n",
       "  </tbody>\n",
       "</table>\n",
       "</div>"
      ],
      "text/plain": [
       "   campaign_n  all_responses  count_candidates  responses_per_candidate\n",
       "0          33             41                11                 3.727273"
      ]
     },
     "execution_count": 22,
     "metadata": {},
     "output_type": "execute_result"
    }
   ],
   "source": [
    "q_7 = '''\n",
    " SELECT\n",
    "    campaign_n,\n",
    "    SUM(count_responses) AS all_responses,\n",
    "    uniqExact(candidate_id) AS count_candidates,\n",
    "    all_responses/count_candidates AS responses_per_candidate\n",
    "FROM\n",
    "    (SELECT\n",
    "        default.applications.candidate_id,\n",
    "        default.users.campaign_n,\n",
    "        count(default.applications.id) AS count_responses\n",
    "    FROM default.applications\n",
    "    JOIN default.users\n",
    "    ON default.users.id = default.applications.candidate_id\n",
    "    GROUP BY default.applications.candidate_id, default.users.campaign_n)\n",
    "GROUP BY campaign_n\n",
    "ORDER BY responses_per_candidate DESC\n",
    "    '''\n",
    "\n",
    "# отправляем запрос и записываем результат в пандасовский датафрейм\n",
    "df_7 = ph.read_clickhouse(q_7, connection=connection)\n",
    "df_7.head(1)"
   ]
  },
  {
   "cell_type": "markdown",
   "metadata": {},
   "source": [
    "Максимальное количество откликов на кандидата: 3.73 (41 отклик на 11 кандидатов)  достигается от рекламной кампании №33."
   ]
  },
  {
   "cell_type": "code",
   "execution_count": null,
   "metadata": {},
   "outputs": [],
   "source": []
  }
 ],
 "metadata": {
  "kernelspec": {
   "display_name": "Python 3",
   "language": "python",
   "name": "python3"
  },
  "language_info": {
   "codemirror_mode": {
    "name": "ipython",
    "version": 3
   },
   "file_extension": ".py",
   "mimetype": "text/x-python",
   "name": "python",
   "nbconvert_exporter": "python",
   "pygments_lexer": "ipython3",
   "version": "3.8.3"
  }
 },
 "nbformat": 4,
 "nbformat_minor": 4
}
