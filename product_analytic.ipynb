{
 "cells": [
  {
   "cell_type": "markdown",
   "metadata": {},
   "source": [
    "## Первое задание"
   ]
  },
  {
   "cell_type": "markdown",
   "metadata": {},
   "source": [
    "Для интернет магазина вещей из Китая имеются следующие данные:\n",
    "\n",
    "* с выручкой – 20 млн. рублей, \n",
    "* прибыль – 6 млн. \n",
    "* расходы на рекламу – 2 млн. \n",
    "* заказы – 4 000\n",
    "* покупатели – 3 300\n",
    "* пользователей на сайте – 600 000\n"
   ]
  },
  {
   "cell_type": "markdown",
   "metadata": {},
   "source": [
    "### 1. Посчитать метрики unit экономики: конверсию, ARPU, ARPPU, CPAcq, маржинальность, средний чек."
   ]
  },
  {
   "cell_type": "markdown",
   "metadata": {},
   "source": [
    "**Конверсия в покупателя**"
   ]
  },
  {
   "cell_type": "code",
   "execution_count": 2,
   "metadata": {},
   "outputs": [
    {
     "name": "stdout",
     "output_type": "stream",
     "text": [
      "Конверсия: 0.55%\n"
     ]
    }
   ],
   "source": [
    "users = 600000\n",
    "customers = 3300\n",
    "conversion = customers/users\n",
    "print(f'Конверсия: {conversion:.2%}')"
   ]
  },
  {
   "cell_type": "markdown",
   "metadata": {},
   "source": [
    "**Cредний чек**"
   ]
  },
  {
   "cell_type": "code",
   "execution_count": 3,
   "metadata": {},
   "outputs": [
    {
     "name": "stdout",
     "output_type": "stream",
     "text": [
      "Средний чек: 5000.0\n"
     ]
    }
   ],
   "source": [
    "revenue = 20000000\n",
    "orders = 4000\n",
    "AOV = revenue/orders\n",
    "print(f'Средний чек: {AOV}')"
   ]
  },
  {
   "cell_type": "markdown",
   "metadata": {},
   "source": [
    "**ARPPU**"
   ]
  },
  {
   "cell_type": "code",
   "execution_count": 4,
   "metadata": {},
   "outputs": [
    {
     "name": "stdout",
     "output_type": "stream",
     "text": [
      "Повторные покупки: 1.2\n"
     ]
    }
   ],
   "source": [
    "RP = orders/customers\n",
    "print(f'Повторные покупки: {RP:.2}')"
   ]
  },
  {
   "cell_type": "code",
   "execution_count": 5,
   "metadata": {},
   "outputs": [
    {
     "name": "stdout",
     "output_type": "stream",
     "text": [
      "ARPPU: 6060.61\n"
     ]
    }
   ],
   "source": [
    "ARPPU = RP*AOV\n",
    "print(f'ARPPU: {round(ARPPU, 2)}')"
   ]
  },
  {
   "cell_type": "markdown",
   "metadata": {},
   "source": [
    "**ARPU**"
   ]
  },
  {
   "cell_type": "code",
   "execution_count": 6,
   "metadata": {},
   "outputs": [
    {
     "name": "stdout",
     "output_type": "stream",
     "text": [
      "ARPU: 33.33\n"
     ]
    }
   ],
   "source": [
    "ARPU = conversion * ARPPU\n",
    "print(f'ARPU: {round(ARPU, 2)}')"
   ]
  },
  {
   "cell_type": "markdown",
   "metadata": {},
   "source": [
    "**CPAcq**"
   ]
  },
  {
   "cell_type": "code",
   "execution_count": 7,
   "metadata": {},
   "outputs": [
    {
     "name": "stdout",
     "output_type": "stream",
     "text": [
      "CPAcq: 3.33\n"
     ]
    }
   ],
   "source": [
    "costs = 2000000\n",
    "CPAcq = costs/users\n",
    "print(f'CPAcq: {round(CPAcq, 2)}')"
   ]
  },
  {
   "cell_type": "markdown",
   "metadata": {},
   "source": [
    "**Маржинальность (Margin)**"
   ]
  },
  {
   "cell_type": "code",
   "execution_count": 8,
   "metadata": {},
   "outputs": [
    {
     "name": "stdout",
     "output_type": "stream",
     "text": [
      "Маржинальность: 40.00%\n"
     ]
    }
   ],
   "source": [
    "CM = 6000000\n",
    "margin = (CM + users * CPAcq)/(users * conversion * AOV * RP)\n",
    "print(f'Маржинальность: {margin:.2%}')"
   ]
  },
  {
   "cell_type": "markdown",
   "metadata": {},
   "source": [
    "### Посчитать на сколько необходимо увеличить различные метрики, чтобы получить эффект аналогичный увеличению конверсии до 1%"
   ]
  },
  {
   "cell_type": "markdown",
   "metadata": {},
   "source": [
    "**Если конверсия увеличится до 1%, то чему будет равна прибыль?**"
   ]
  },
  {
   "cell_type": "code",
   "execution_count": 9,
   "metadata": {},
   "outputs": [
    {
     "name": "stdout",
     "output_type": "stream",
     "text": [
      "Прибыль при увеличении конверсии до 1% будет равна 12545455 рублей.\n"
     ]
    }
   ],
   "source": [
    "CM = users * conversion * AOV * margin * RP - users * CPAcq\n",
    "conversion_1 = 0.01\n",
    "CM_1 = users * conversion_1 * AOV * margin * RP - users * CPAcq\n",
    "print(f'Прибыль при увеличении конверсии до 1% будет равна {round(CM_1)} рублей.')"
   ]
  },
  {
   "cell_type": "markdown",
   "metadata": {},
   "source": [
    "**Сколько пользователей нужно привлечь, чтобы получить аналогичную прибыль?** "
   ]
  },
  {
   "cell_type": "code",
   "execution_count": 136,
   "metadata": {},
   "outputs": [
    {
     "name": "stdout",
     "output_type": "stream",
     "text": [
      "Чтобы получить прибыль 12545455 рублей, нужно привлечь 654545 пользователей.\n"
     ]
    }
   ],
   "source": [
    "users_1 = CM_1/(conversion * AOV * margin * RP - CPAcq)\n",
    "print(f'Чтобы получить прибыль {round(CM_1)} рублей, нужно привлечь {round(users_1 - users)} пользователей.')"
   ]
  },
  {
   "cell_type": "markdown",
   "metadata": {},
   "source": [
    "**Какие изменения должны произойти со средним чеком?** "
   ]
  },
  {
   "cell_type": "code",
   "execution_count": 137,
   "metadata": {},
   "outputs": [
    {
     "name": "stdout",
     "output_type": "stream",
     "text": [
      "Чтобы получить прибыль 12545455 рублей, нужно увеличить средний чек до 9091 рублей.\n"
     ]
    }
   ],
   "source": [
    "AOV_1 = (CM_1 + users * CPAcq)/(users * conversion * margin * RP)\n",
    "print(f'Чтобы получить прибыль {round(CM_1)} рублей, нужно увеличить средний чек до {round(AOV_1)} рублей.')"
   ]
  },
  {
   "cell_type": "markdown",
   "metadata": {},
   "source": [
    "**На сколько процентов должна увеличиться маржа?**"
   ]
  },
  {
   "cell_type": "code",
   "execution_count": 115,
   "metadata": {},
   "outputs": [
    {
     "name": "stdout",
     "output_type": "stream",
     "text": [
      "Чтобы получить прибыль 12545455 рублей, маржа долна увеличиться на 33%\n"
     ]
    }
   ],
   "source": [
    "margin_1 = (CM_1 + users * CPAcq)/(users * conversion * AOV * RP)\n",
    "print(f'Чтобы получить прибыль {round(CM_1)} рублей, маржа долна увеличиться на {(margin_1 - margin):.0%}')"
   ]
  },
  {
   "cell_type": "markdown",
   "metadata": {},
   "source": [
    "**При каком значении повторных покупок мы получим эффект аналогичный увеличению конверсии до 1%?**"
   ]
  },
  {
   "cell_type": "code",
   "execution_count": 138,
   "metadata": {},
   "outputs": [
    {
     "name": "stdout",
     "output_type": "stream",
     "text": [
      "Чтобы получить эффект аналогичный увеличению конверсии до 1%, повторные покупки должны быть: 2.2\n"
     ]
    }
   ],
   "source": [
    "RP_1 = (CM_1 + users * CPAcq)/(users * conversion * AOV * margin)\n",
    "print(f'Чтобы получить эффект аналогичный увеличению конверсии до 1%, повторные покупки должны быть: {RP_1:.2}')"
   ]
  },
  {
   "cell_type": "markdown",
   "metadata": {},
   "source": [
    "## Второе задание"
   ]
  },
  {
   "cell_type": "markdown",
   "metadata": {},
   "source": [
    "В приложении зарегистрировалось 400 пользователей – это наша когорта.\n",
    "\n",
    "В первую неделю к нам вернулось 100 человек,\n",
    "\n",
    "во вторую – 80 (из них 60 человек были на первой неделе),\n",
    "\n",
    "в третью – 60 (10 из них не были в неделю 1 и 2),\n",
    "\n",
    "в четвертую – 50 (10 из них не были в недели 1, 2, 3)."
   ]
  },
  {
   "cell_type": "markdown",
   "metadata": {},
   "source": [
    "**1. Посчитайте Retention (календарно) первой, второй, третьей недели.**"
   ]
  },
  {
   "cell_type": "code",
   "execution_count": 64,
   "metadata": {},
   "outputs": [
    {
     "name": "stdout",
     "output_type": "stream",
     "text": [
      "Retention первой недели: 25.0%\n",
      "Retention второй недели: 20.0%\n",
      "Retention третьей недели: 15.0%\n"
     ]
    }
   ],
   "source": [
    "retention_1st = 100/400*100\n",
    "retention_2st = 80/400*100\n",
    "retention_3st = 60/400*100\n",
    "print(f'''Retention первой недели: {retention_1st}%\n",
    "Retention второй недели: {retention_2st}%\n",
    "Retention третьей недели: {retention_3st}%''')"
   ]
  },
  {
   "cell_type": "markdown",
   "metadata": {},
   "source": [
    "**2. Посчитайте Rolling Retention первой, второй, третьей недели.** "
   ]
  },
  {
   "cell_type": "code",
   "execution_count": 45,
   "metadata": {},
   "outputs": [
    {
     "name": "stdout",
     "output_type": "stream",
     "text": [
      "Rolling Retention первой недели: 35.0%\n",
      "Rolling Retention второй недели: 25.0%\n",
      "Rolling Retention третьей недели: 17.5%\n"
     ]
    }
   ],
   "source": [
    "rolling_retention_1st = (100+20+10+10)/400*100\n",
    "rolling_retention_2st = (80+10+10)/400*100\n",
    "rolling_retention_3st = (60+10)/400*100\n",
    "print(f'''Rolling Retention первой недели: {rolling_retention_1st}%\n",
    "Rolling Retention второй недели: {rolling_retention_2st}%\n",
    "Rolling Retention третьей недели: {rolling_retention_3st}%''')"
   ]
  },
  {
   "cell_type": "code",
   "execution_count": null,
   "metadata": {},
   "outputs": [],
   "source": []
  }
 ],
 "metadata": {
  "kernelspec": {
   "display_name": "Python 3",
   "language": "python",
   "name": "python3"
  },
  "language_info": {
   "codemirror_mode": {
    "name": "ipython",
    "version": 3
   },
   "file_extension": ".py",
   "mimetype": "text/x-python",
   "name": "python",
   "nbconvert_exporter": "python",
   "pygments_lexer": "ipython3",
   "version": "3.7.3"
  }
 },
 "nbformat": 4,
 "nbformat_minor": 4
}
